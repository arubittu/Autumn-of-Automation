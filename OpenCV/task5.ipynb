{
 "cells": [
  {
   "cell_type": "code",
   "execution_count": 1,
   "metadata": {},
   "outputs": [],
   "source": [
    "import numpy as np\n",
    "import cv2\n",
    "\n",
    "import matplotlib.pyplot as plt"
   ]
  },
  {
   "cell_type": "code",
   "execution_count": 2,
   "metadata": {},
   "outputs": [],
   "source": [
    "video = cv2.VideoCapture(\"messi.mp4\")\n"
   ]
  },
  {
   "cell_type": "code",
   "execution_count": 3,
   "metadata": {},
   "outputs": [],
   "source": [
    "while True:\n",
    "    ret,frame=video.read()\n",
    "    gray = cv2.cvtColor(frame,cv2.COLOR_BGR2GRAY)\n",
    "    _, thresh= cv2.threshold(gray, 200, 255, cv2.THRESH_BINARY)\n",
    "    #thresh = cv2.adaptiveThreshold(gray, 255, cv2.ADAPTIVE_THRESH_MEAN_C, \n",
    "       #                                   cv2.THRESH_BINARY, 1511, 1) \n",
    "    kernel = np.ones((5,5), np.uint8) \n",
    "    #erosion = cv2.erode(thresh, kernel, iterations=1) \n",
    "    dilation = cv2.dilate(thresh, kernel, iterations=1)\n",
    "    contours, _ = cv2.findContours(dilation, cv2.RETR_TREE, cv2.CHAIN_APPROX_SIMPLE)\n",
    "    sub_list1=[]\n",
    "    sub_list2=[0]\n",
    "    max_ratio=0\n",
    "    mx=0\n",
    "    for cnt in contours:\n",
    "        approx = cv2.approxPolyDP(cnt,0.01*cv2.arcLength(cnt,True),True)\n",
    "        x = (approx.ravel()[0])\n",
    "        y =  (approx.ravel()[1])\n",
    "        \n",
    "        if len(approx)>15:\n",
    "             \n",
    "            (x,y),radius = cv2.minEnclosingCircle(cnt)\n",
    "            center = (int(x),int(y))\n",
    "            radius = int(radius)\n",
    "            area2=3.14*radius*radius\n",
    "            area = cv2.contourArea(cnt)\n",
    "            ratio=area/area2\n",
    "            #sub_list1.append(cnt)\n",
    "            #sub_list2.append[ratio]\n",
    "            max_ratio=max(max_ratio,ratio)\n",
    "            if max_ratio==ratio:\n",
    "                cv2.drawContours(frame,approx,0,(255,0,0),5)\n",
    "        \n",
    "    cv2.imshow('img', frame)\n",
    "    k = cv2.waitKey(2) & 0xff\n",
    "    if k==27:\n",
    "        video.release()\n",
    "        cv2.destroyAllWindows()\n",
    "        break\n",
    "    "
   ]
  },
  {
   "cell_type": "code",
   "execution_count": 40,
   "metadata": {},
   "outputs": [],
   "source": [
    "video.release()\n",
    "cv2.destroyAllWindows()"
   ]
  },
  {
   "cell_type": "code",
   "execution_count": null,
   "metadata": {},
   "outputs": [],
   "source": []
  }
 ],
 "metadata": {
  "kernelspec": {
   "display_name": "Python 3",
   "language": "python",
   "name": "python3"
  },
  "language_info": {
   "codemirror_mode": {
    "name": "ipython",
    "version": 3
   },
   "file_extension": ".py",
   "mimetype": "text/x-python",
   "name": "python",
   "nbconvert_exporter": "python",
   "pygments_lexer": "ipython3",
   "version": "3.7.6"
  }
 },
 "nbformat": 4,
 "nbformat_minor": 4
}

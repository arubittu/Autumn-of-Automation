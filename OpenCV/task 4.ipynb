{
 "cells": [
  {
   "cell_type": "code",
   "execution_count": 384,
   "metadata": {},
   "outputs": [],
   "source": [
    "import numpy as np\n",
    "import cv2\n",
    "import matplotlib.pyplot as plt\n",
    "font = cv2.FONT_HERSHEY_COMPLEX"
   ]
  },
  {
   "cell_type": "code",
   "execution_count": 385,
   "metadata": {},
   "outputs": [],
   "source": [
    "img = cv2.imread(\"shapes.jpg\", cv2.IMREAD_GRAYSCALE)\n",
    "_, thresh= cv2.threshold(img, 245, 255, cv2.THRESH_BINARY)"
   ]
  },
  {
   "cell_type": "code",
   "execution_count": 386,
   "metadata": {},
   "outputs": [],
   "source": [
    "kernel = np.ones((5,5), np.uint8) \n",
    "#erosion = cv2.erode(thresh, kernel, iterations=1) \n",
    "dilation = cv2.dilate(thresh, kernel, iterations=1) "
   ]
  },
  {
   "cell_type": "code",
   "execution_count": 387,
   "metadata": {},
   "outputs": [],
   "source": [
    "cv2.imshow('',dilation)\n",
    "cv2.waitKey(5000)\n",
    "cv2.destroyAllWindows()"
   ]
  },
  {
   "cell_type": "code",
   "execution_count": 388,
   "metadata": {},
   "outputs": [],
   "source": [
    "contours, _ = cv2.findContours(dilation, cv2.RETR_TREE, cv2.CHAIN_APPROX_SIMPLE)"
   ]
  },
  {
   "cell_type": "code",
   "execution_count": 389,
   "metadata": {},
   "outputs": [],
   "source": [
    "for cnt in contours:\n",
    "    approx = cv2.approxPolyDP(cnt, 0.01*cv2.arcLength(cnt, True), True)\n",
    "    cv2.drawContours(img, [approx], 0, (0), 5)\n",
    "    x = (approx.ravel()[0])\n",
    "    y =  (approx.ravel()[1])\n",
    "    #print((approx))\n",
    "    if len(approx) == 3:\n",
    "        cv2.putText(img, \"Triangle\", (x, y), font, 1, (0))\n",
    "    elif len(approx) == 4:\n",
    "        cv2.putText(img, \"Rectangle\", (x, y), font, 1, (0))\n",
    " \n",
    "    elif 6 < len(approx) < 20:\n",
    "        (x,y),radius = cv2.minEnclosingCircle(cnt)\n",
    "        center = (int(x),int(y))\n",
    "        radius = int(radius)\n",
    "        img = cv2.circle(img,center,radius,(0,255,0),2)\n",
    "        area = cv2.contourArea(cnt)\n",
    "        area2=3.14*radius*radius\n",
    "        if area2-area <500:\n",
    "            cv2.putText(img, \"circle\", (int(x), int(y)), font, 1, (0))\n",
    "        else:\n",
    "            cv2.putText(img, \"ellipse\", (int(x), int(y)), font, 1, (0))\n",
    " "
   ]
  },
  {
   "cell_type": "code",
   "execution_count": 390,
   "metadata": {},
   "outputs": [],
   "source": [
    "cv2.imshow('',img)\n",
    "cv2.waitKey(5000)\n",
    "cv2.destroyAllWindows()"
   ]
  },
  {
   "cell_type": "code",
   "execution_count": null,
   "metadata": {},
   "outputs": [],
   "source": []
  }
 ],
 "metadata": {
  "kernelspec": {
   "display_name": "Python 3",
   "language": "python",
   "name": "python3"
  },
  "language_info": {
   "codemirror_mode": {
    "name": "ipython",
    "version": 3
   },
   "file_extension": ".py",
   "mimetype": "text/x-python",
   "name": "python",
   "nbconvert_exporter": "python",
   "pygments_lexer": "ipython3",
   "version": "3.7.6"
  }
 },
 "nbformat": 4,
 "nbformat_minor": 4
}

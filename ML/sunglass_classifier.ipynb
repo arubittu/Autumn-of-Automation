{
  "nbformat": 4,
  "nbformat_minor": 0,
  "metadata": {
    "colab": {
      "name": "sunglass classifier.ipynb",
      "provenance": []
    },
    "kernelspec": {
      "name": "python3",
      "display_name": "Python 3"
    },
    "accelerator": "GPU"
  },
  "cells": [
    {
      "cell_type": "code",
      "metadata": {
        "id": "Tpv6zJT17Mo2",
        "colab_type": "code",
        "colab": {}
      },
      "source": [
        "import pandas as pd\n",
        "import numpy as np\n",
        "import os\n",
        "import sys\n",
        "import cv2\n",
        "import PIL\n",
        "import tensorflow as tf\n",
        "import matplotlib.pylab as plt\n",
        "\n",
        "import tensorflow_hub as hub\n",
        "import tensorflow_datasets as tfds\n",
        "\n",
        "from tensorflow.keras import layers"
      ],
      "execution_count": 2,
      "outputs": []
    },
    {
      "cell_type": "code",
      "metadata": {
        "id": "jWzm_HPq99Y-",
        "colab_type": "code",
        "colab": {}
      },
      "source": [
        "base_path='/content/drive/My Drive/Intermediate_Assignment_Dataset'"
      ],
      "execution_count": 3,
      "outputs": []
    },
    {
      "cell_type": "code",
      "metadata": {
        "id": "UqcbP9Km_Ax4",
        "colab_type": "code",
        "colab": {
          "base_uri": "https://localhost:8080/",
          "height": 154
        },
        "outputId": "75f27bd7-e7a8-44e5-d028-509075f98363"
      },
      "source": [
        "img=cv2.imread('/content/drive/My Drive/Intermediate_Assignment_Dataset/YesSunglasses104.pgm',-1) \n",
        "print(img.shape)\n",
        "from google.colab.patches import cv2_imshow\n",
        "cv2_imshow(img)"
      ],
      "execution_count": 4,
      "outputs": [
        {
          "output_type": "stream",
          "text": [
            "(120, 128)\n"
          ],
          "name": "stdout"
        },
        {
          "output_type": "display_data",
          "data": {
            "image/png": "[encoded data removed]",
            "text/plain": [
              "<PIL.Image.Image image mode=L size=128x120 at 0x7F9ED19AC898>"
            ]
          },
          "metadata": {
            "tags": []
          }
        }
      ]
    },
    {
      "cell_type": "code",
      "metadata": {
        "id": "mp1lAJsgBUIT",
        "colab_type": "code",
        "colab": {}
      },
      "source": [
        "# all the image sizes are (120,128)"
      ],
      "execution_count": 5,
      "outputs": []
    },
    {
      "cell_type": "code",
      "metadata": {
        "id": "cprkNjUXB_Ak",
        "colab_type": "code",
        "colab": {}
      },
      "source": [
        "X=[]\n",
        "Y=[]\n",
        "for filename in os.listdir(base_path):\n",
        "    if filename.endswith(\".pgm\"): \n",
        "         file_path=os.path.join(base_path, filename)\n",
        "         if filename[0:2]=='No':\n",
        "           Y.append(0.0)\n",
        "         if filename[0:3]=='Yes':\n",
        "           Y.append(1.0)\n",
        "         img=cv2.imread(file_path,-1)\n",
        "         X.append(img) \n",
        "\n",
        "\n",
        "     "
      ],
      "execution_count": 6,
      "outputs": []
    },
    {
      "cell_type": "code",
      "metadata": {
        "id": "ZYDOZOBfDTna",
        "colab_type": "code",
        "colab": {}
      },
      "source": [
        "np.save('sunglass.npy', X, allow_pickle=True, fix_imports=True)"
      ],
      "execution_count": 7,
      "outputs": []
    },
    {
      "cell_type": "code",
      "metadata": {
        "id": "ku2fLWZNLli9",
        "colab_type": "code",
        "colab": {}
      },
      "source": [
        "X=np.load('sunglass.npy')"
      ],
      "execution_count": 26,
      "outputs": []
    },
    {
      "cell_type": "code",
      "metadata": {
        "id": "CR_f0XyHKFDx",
        "colab_type": "code",
        "colab": {
          "base_uri": "https://localhost:8080/",
          "height": 34
        },
        "outputId": "0af79e6d-7c00-41ee-fe36-e3db13fd40a2"
      },
      "source": [
        "X=np.asarray(X)/255.00\n",
        "Y=np.asarray(Y)\n",
        "print(X.shape,Y.shape)"
      ],
      "execution_count": 27,
      "outputs": [
        {
          "output_type": "stream",
          "text": [
            "(624, 120, 128) (624, 1)\n"
          ],
          "name": "stdout"
        }
      ]
    },
    {
      "cell_type": "code",
      "metadata": {
        "id": "RTDOhrRlK9gh",
        "colab_type": "code",
        "colab": {}
      },
      "source": [
        "Y=np.reshape(Y,(624,1)) "
      ],
      "execution_count": 31,
      "outputs": []
    },
    {
      "cell_type": "code",
      "metadata": {
        "id": "BuipNEKvPGvX",
        "colab_type": "code",
        "colab": {}
      },
      "source": [
        "X = np.expand_dims(X, axis = -1)"
      ],
      "execution_count": 32,
      "outputs": []
    },
    {
      "cell_type": "code",
      "metadata": {
        "id": "kNzafN4fQkYJ",
        "colab_type": "code",
        "colab": {}
      },
      "source": [
        "import numpy as np\n",
        "from sklearn.model_selection import train_test_split\n",
        "X_train,X_test,Y_train,Y_test=train_test_split(X, Y, test_size=0.30, random_state=1)\n",
        "X_test,X_val,Y_test,Y_val=train_test_split(X_test, Y_test, test_size=0.66, random_state=1)"
      ],
      "execution_count": 73,
      "outputs": []
    },
    {
      "cell_type": "code",
      "metadata": {
        "id": "Rodu0cULiG9m",
        "colab_type": "code",
        "colab": {}
      },
      "source": [
        "from keras import layers\n",
        "from keras import regularizers\n",
        "from keras.utils.np_utils import to_categorical\n",
        "from keras.layers import Input, Dense, Activation, ZeroPadding2D, BatchNormalization, Flatten, Conv2D\n",
        "from keras.layers import AveragePooling2D, MaxPooling2D, Dropout, GlobalMaxPooling2D, GlobalAveragePooling2D\n",
        "from keras.models import Model\n",
        "from keras.preprocessing import image\n",
        "from keras.utils import layer_utils\n",
        "from IPython.display import SVG\n",
        "import keras"
      ],
      "execution_count": 74,
      "outputs": []
    },
    {
      "cell_type": "code",
      "metadata": {
        "id": "O5FrGuiiS2Nd",
        "colab_type": "code",
        "colab": {}
      },
      "source": [
        "from keras.models import Sequential\n",
        "model=Sequential()\n",
        "\n",
        " \n",
        "\n",
        "model.add(Conv2D(32, (5,5), strides=(1, 1), padding='valid', activation=None, use_bias=True, kernel_initializer='glorot_uniform', bias_initializer='zeros', kernel_regularizer=None, bias_regularizer=None, activity_regularizer=None, kernel_constraint=None, bias_constraint=None,input_shape=(120,128,1)))\n",
        "model.add(BatchNormalization(axis=-1))\n",
        "model.add(Activation('relu'))\n",
        "model.add(MaxPooling2D((2,2)))\n",
        "#model.add(Dropout(0.1))\n",
        "\n",
        "model.add(Conv2D(64, (5,5), strides=(1, 1), padding='valid', activation=None, use_bias=True, kernel_initializer='glorot_uniform', bias_initializer='zeros', kernel_regularizer=None, bias_regularizer=None, activity_regularizer=None, kernel_constraint=None, bias_constraint=None))\n",
        "model.add(BatchNormalization(axis=-1))\n",
        "model.add(Activation('relu'))\n",
        "model.add(MaxPooling2D((2,2)))\n",
        "#model.add(Dropout(0.1))\n",
        "\n",
        "model.add(Conv2D(128, (5,5), strides=(1, 1), padding='valid', activation=None, use_bias=True, kernel_initializer='glorot_uniform', bias_initializer='zeros', kernel_regularizer=None, bias_regularizer=None, activity_regularizer=None, kernel_constraint=None, bias_constraint=None))\n",
        "model.add(BatchNormalization(axis=-1))\n",
        "model.add(Activation('relu'))\n",
        "model.add(MaxPooling2D((2,2)))\n",
        "#model.add(Dropout(0.1))\n",
        "\n",
        "model.add(Conv2D(256, (5,5), strides=(1, 1), padding='valid', activation=None, use_bias=True, kernel_initializer='glorot_uniform', bias_initializer='zeros', kernel_regularizer=None, bias_regularizer=None, activity_regularizer=None, kernel_constraint=None, bias_constraint=None))\n",
        "model.add(BatchNormalization(axis=-1))\n",
        "model.add(Activation('relu'))\n",
        "#model.add(Dropout(0.1)) \n",
        " \n",
        "\n",
        " \n",
        "\n",
        "model.add(Flatten())\n",
        "model.add(Dense(512, activation='relu', use_bias=True, kernel_initializer='glorot_uniform', bias_initializer='zeros', kernel_regularizer=None, bias_regularizer=None, activity_regularizer=None, kernel_constraint=None, bias_constraint=None))\n",
        " \n",
        "model.add(Dense(1, activation='sigmoid', use_bias=True, kernel_initializer='glorot_uniform', bias_initializer='zeros', kernel_regularizer=None, bias_regularizer=None, activity_regularizer=None, kernel_constraint=None, bias_constraint=None))"
      ],
      "execution_count": 75,
      "outputs": []
    },
    {
      "cell_type": "code",
      "metadata": {
        "id": "Q3xiJHb9Lsp1",
        "colab_type": "code",
        "colab": {
          "base_uri": "https://localhost:8080/",
          "height": 756
        },
        "outputId": "720a2992-8f0f-41bf-e41a-f9c5e1b2e95f"
      },
      "source": [
        "model.summary()"
      ],
      "execution_count": 76,
      "outputs": [
        {
          "output_type": "stream",
          "text": [
            "Model: \"sequential_10\"\n",
            "_________________________________________________________________\n",
            "Layer (type)                 Output Shape              Param #   \n",
            "=================================================================\n",
            "conv2d_37 (Conv2D)           (None, 116, 124, 32)      832       \n",
            "_________________________________________________________________\n",
            "batch_normalization_37 (Batc (None, 116, 124, 32)      128       \n",
            "_________________________________________________________________\n",
            "activation_37 (Activation)   (None, 116, 124, 32)      0         \n",
            "_________________________________________________________________\n",
            "max_pooling2d_18 (MaxPooling (None, 58, 62, 32)        0         \n",
            "_________________________________________________________________\n",
            "conv2d_38 (Conv2D)           (None, 54, 58, 64)        51264     \n",
            "_________________________________________________________________\n",
            "batch_normalization_38 (Batc (None, 54, 58, 64)        256       \n",
            "_________________________________________________________________\n",
            "activation_38 (Activation)   (None, 54, 58, 64)        0         \n",
            "_________________________________________________________________\n",
            "max_pooling2d_19 (MaxPooling (None, 27, 29, 64)        0         \n",
            "_________________________________________________________________\n",
            "conv2d_39 (Conv2D)           (None, 23, 25, 128)       204928    \n",
            "_________________________________________________________________\n",
            "batch_normalization_39 (Batc (None, 23, 25, 128)       512       \n",
            "_________________________________________________________________\n",
            "activation_39 (Activation)   (None, 23, 25, 128)       0         \n",
            "_________________________________________________________________\n",
            "max_pooling2d_20 (MaxPooling (None, 11, 12, 128)       0         \n",
            "_________________________________________________________________\n",
            "conv2d_40 (Conv2D)           (None, 7, 8, 256)         819456    \n",
            "_________________________________________________________________\n",
            "batch_normalization_40 (Batc (None, 7, 8, 256)         1024      \n",
            "_________________________________________________________________\n",
            "activation_40 (Activation)   (None, 7, 8, 256)         0         \n",
            "_________________________________________________________________\n",
            "flatten_10 (Flatten)         (None, 14336)             0         \n",
            "_________________________________________________________________\n",
            "dense_19 (Dense)             (None, 512)               7340544   \n",
            "_________________________________________________________________\n",
            "dense_20 (Dense)             (None, 1)                 513       \n",
            "=================================================================\n",
            "Total params: 8,419,457\n",
            "Trainable params: 8,418,497\n",
            "Non-trainable params: 960\n",
            "_________________________________________________________________\n"
          ],
          "name": "stdout"
        }
      ]
    },
    {
      "cell_type": "code",
      "metadata": {
        "id": "acLmLlh_Fm00",
        "colab_type": "code",
        "colab": {}
      },
      "source": [
        "optimizer = keras.optimizers.Adam(lr=0.05)"
      ],
      "execution_count": 77,
      "outputs": []
    },
    {
      "cell_type": "code",
      "metadata": {
        "id": "dhbwoX9gab7T",
        "colab_type": "code",
        "colab": {}
      },
      "source": [
        "model.compile(optimizer, 'binary_crossentropy', metrics=['accuracy'])"
      ],
      "execution_count": 78,
      "outputs": []
    },
    {
      "cell_type": "code",
      "metadata": {
        "id": "HPbs5MeqpBQc",
        "colab_type": "code",
        "colab": {
          "base_uri": "https://localhost:8080/",
          "height": 1000
        },
        "outputId": "0f030190-9da3-4ae8-e629-34f677cafddc"
      },
      "source": [
        "model.fit(x = X_train, y = Y_train, epochs = 40, batch_size = 8, validation_data=(X_val,Y_val) )"
      ],
      "execution_count": 79,
      "outputs": [
        {
          "output_type": "stream",
          "text": [
            "Train on 436 samples, validate on 125 samples\n",
            "Epoch 1/40\n",
            "436/436 [==============================] - 4s 8ms/step - loss: 68.8922 - accuracy: 0.4954 - val_loss: 233.4865 - val_accuracy: 0.4960\n",
            "Epoch 2/40\n",
            "436/436 [==============================] - 3s 6ms/step - loss: 0.7617 - accuracy: 0.5619 - val_loss: 17.2344 - val_accuracy: 0.5120\n",
            "Epoch 3/40\n",
            "436/436 [==============================] - 3s 6ms/step - loss: 0.6584 - accuracy: 0.6216 - val_loss: 4.7493 - val_accuracy: 0.5200\n",
            "Epoch 4/40\n",
            "436/436 [==============================] - 3s 6ms/step - loss: 0.6420 - accuracy: 0.6353 - val_loss: 1.1961 - val_accuracy: 0.6320\n",
            "Epoch 5/40\n",
            "436/436 [==============================] - 3s 6ms/step - loss: 0.5807 - accuracy: 0.6972 - val_loss: 0.7393 - val_accuracy: 0.7360\n",
            "Epoch 6/40\n",
            "436/436 [==============================] - 3s 6ms/step - loss: 0.6016 - accuracy: 0.6812 - val_loss: 0.5711 - val_accuracy: 0.7120\n",
            "Epoch 7/40\n",
            "436/436 [==============================] - 3s 6ms/step - loss: 0.5159 - accuracy: 0.7385 - val_loss: 0.5299 - val_accuracy: 0.7200\n",
            "Epoch 8/40\n",
            "436/436 [==============================] - 3s 6ms/step - loss: 0.4568 - accuracy: 0.8050 - val_loss: 0.5789 - val_accuracy: 0.7120\n",
            "Epoch 9/40\n",
            "436/436 [==============================] - 3s 6ms/step - loss: 0.4480 - accuracy: 0.8050 - val_loss: 1.5754 - val_accuracy: 0.4160\n",
            "Epoch 10/40\n",
            "436/436 [==============================] - 3s 6ms/step - loss: 0.4637 - accuracy: 0.8211 - val_loss: 0.4124 - val_accuracy: 0.8000\n",
            "Epoch 11/40\n",
            "436/436 [==============================] - 3s 6ms/step - loss: 0.3135 - accuracy: 0.8578 - val_loss: 1.8450 - val_accuracy: 0.4880\n",
            "Epoch 12/40\n",
            "436/436 [==============================] - 3s 6ms/step - loss: 0.2317 - accuracy: 0.9128 - val_loss: 3.1054 - val_accuracy: 0.5120\n",
            "Epoch 13/40\n",
            "436/436 [==============================] - 3s 6ms/step - loss: 0.3144 - accuracy: 0.8693 - val_loss: 0.8230 - val_accuracy: 0.6240\n",
            "Epoch 14/40\n",
            "436/436 [==============================] - 3s 6ms/step - loss: 0.2845 - accuracy: 0.8807 - val_loss: 0.3867 - val_accuracy: 0.8480\n",
            "Epoch 15/40\n",
            "436/436 [==============================] - 3s 6ms/step - loss: 0.2303 - accuracy: 0.9037 - val_loss: 0.3085 - val_accuracy: 0.8720\n",
            "Epoch 16/40\n",
            "436/436 [==============================] - 3s 6ms/step - loss: 0.1199 - accuracy: 0.9679 - val_loss: 0.3274 - val_accuracy: 0.8880\n",
            "Epoch 17/40\n",
            "436/436 [==============================] - 3s 6ms/step - loss: 0.1891 - accuracy: 0.9083 - val_loss: 0.2599 - val_accuracy: 0.8800\n",
            "Epoch 18/40\n",
            "436/436 [==============================] - 3s 6ms/step - loss: 0.1535 - accuracy: 0.9450 - val_loss: 0.0622 - val_accuracy: 0.9680\n",
            "Epoch 19/40\n",
            "436/436 [==============================] - 3s 6ms/step - loss: 0.0913 - accuracy: 0.9633 - val_loss: 0.0865 - val_accuracy: 0.9760\n",
            "Epoch 20/40\n",
            "436/436 [==============================] - 3s 6ms/step - loss: 0.0595 - accuracy: 0.9771 - val_loss: 1.8633 - val_accuracy: 0.6240\n",
            "Epoch 21/40\n",
            "436/436 [==============================] - 3s 6ms/step - loss: 0.0301 - accuracy: 0.9839 - val_loss: 3.2158 - val_accuracy: 0.5200\n",
            "Epoch 22/40\n",
            "436/436 [==============================] - 3s 6ms/step - loss: 0.0528 - accuracy: 0.9908 - val_loss: 0.0857 - val_accuracy: 0.9760\n",
            "Epoch 23/40\n",
            "436/436 [==============================] - 3s 6ms/step - loss: 0.1142 - accuracy: 0.9702 - val_loss: 3.3309 - val_accuracy: 0.5040\n",
            "Epoch 24/40\n",
            "436/436 [==============================] - 3s 6ms/step - loss: 0.0827 - accuracy: 0.9656 - val_loss: 0.2661 - val_accuracy: 0.9440\n",
            "Epoch 25/40\n",
            "436/436 [==============================] - 3s 6ms/step - loss: 0.2237 - accuracy: 0.9243 - val_loss: 0.1560 - val_accuracy: 0.9520\n",
            "Epoch 26/40\n",
            "436/436 [==============================] - 3s 6ms/step - loss: 0.1150 - accuracy: 0.9587 - val_loss: 0.2467 - val_accuracy: 0.9120\n",
            "Epoch 27/40\n",
            "436/436 [==============================] - 3s 6ms/step - loss: 0.0729 - accuracy: 0.9794 - val_loss: 0.4330 - val_accuracy: 0.8720\n",
            "Epoch 28/40\n",
            "436/436 [==============================] - 3s 6ms/step - loss: 0.0164 - accuracy: 0.9954 - val_loss: 0.0946 - val_accuracy: 0.9600\n",
            "Epoch 29/40\n",
            "436/436 [==============================] - 3s 6ms/step - loss: 0.1030 - accuracy: 0.9679 - val_loss: 0.2225 - val_accuracy: 0.9280\n",
            "Epoch 30/40\n",
            "436/436 [==============================] - 3s 6ms/step - loss: 0.1199 - accuracy: 0.9633 - val_loss: 0.4094 - val_accuracy: 0.8800\n",
            "Epoch 31/40\n",
            "436/436 [==============================] - 3s 6ms/step - loss: 0.0728 - accuracy: 0.9748 - val_loss: 0.0472 - val_accuracy: 0.9760\n",
            "Epoch 32/40\n",
            "436/436 [==============================] - 3s 6ms/step - loss: 0.0257 - accuracy: 0.9908 - val_loss: 0.0259 - val_accuracy: 0.9920\n",
            "Epoch 33/40\n",
            "436/436 [==============================] - 3s 6ms/step - loss: 0.0509 - accuracy: 0.9817 - val_loss: 1.1543 - val_accuracy: 0.8320\n",
            "Epoch 34/40\n",
            "436/436 [==============================] - 3s 6ms/step - loss: 0.1171 - accuracy: 0.9656 - val_loss: 0.0720 - val_accuracy: 0.9760\n",
            "Epoch 35/40\n",
            "436/436 [==============================] - 3s 6ms/step - loss: 0.0719 - accuracy: 0.9794 - val_loss: 0.0774 - val_accuracy: 0.9840\n",
            "Epoch 36/40\n",
            "436/436 [==============================] - 3s 6ms/step - loss: 0.0124 - accuracy: 1.0000 - val_loss: 0.0284 - val_accuracy: 0.9840\n",
            "Epoch 37/40\n",
            "436/436 [==============================] - 3s 6ms/step - loss: 0.0043 - accuracy: 0.9977 - val_loss: 0.0067 - val_accuracy: 1.0000\n",
            "Epoch 38/40\n",
            "436/436 [==============================] - 3s 6ms/step - loss: 4.3723e-04 - accuracy: 1.0000 - val_loss: 0.0013 - val_accuracy: 1.0000\n",
            "Epoch 39/40\n",
            "436/436 [==============================] - 3s 6ms/step - loss: 0.0018 - accuracy: 1.0000 - val_loss: 0.0018 - val_accuracy: 1.0000\n",
            "Epoch 40/40\n",
            "436/436 [==============================] - 3s 6ms/step - loss: 0.0598 - accuracy: 0.9839 - val_loss: 1.3620 - val_accuracy: 0.9120\n"
          ],
          "name": "stdout"
        },
        {
          "output_type": "execute_result",
          "data": {
            "text/plain": [
              "<keras.callbacks.callbacks.History at 0x7f9e22879470>"
            ]
          },
          "metadata": {
            "tags": []
          },
          "execution_count": 79
        }
      ]
    },
    {
      "cell_type": "code",
      "metadata": {
        "id": "3StfPTlLKP5N",
        "colab_type": "code",
        "colab": {}
      },
      "source": [
        "Y_pred=model.predict(X)"
      ],
      "execution_count": 105,
      "outputs": []
    },
    {
      "cell_type": "code",
      "metadata": {
        "id": "bUQpWnVdXqOx",
        "colab_type": "code",
        "colab": {
          "base_uri": "https://localhost:8080/",
          "height": 34
        },
        "outputId": "da13623c-af57-4f75-ac4a-9c8b22ca928e"
      },
      "source": [
        "tp=0\n",
        "fp=0\n",
        "fn=0\n",
        "for i in range(len(Y_pred)):\n",
        "  if Y_pred[i]>=0.5 and Y[i]==1.0:\n",
        "    tp=tp+1\n",
        "  if Y_pred[i]>=0.5 and Y[i]==0.0:\n",
        "    fp=fp+1 \n",
        "  if Y_pred[i]<0.5 and Y[i]==1:\n",
        "    fn=fn+1 \n",
        "print(tp,fp,fn)"
      ],
      "execution_count": 106,
      "outputs": [
        {
          "output_type": "stream",
          "text": [
            "252 0 59\n"
          ],
          "name": "stdout"
        }
      ]
    },
    {
      "cell_type": "code",
      "metadata": {
        "id": "gljwCf7Vb4Nm",
        "colab_type": "code",
        "colab": {
          "base_uri": "https://localhost:8080/",
          "height": 34
        },
        "outputId": "b14c6e62-3f91-4cbe-9ee9-3282d22dc47a"
      },
      "source": [
        "precision=tp/(tp+fp)\n",
        "recall=tp/(tp+fn)\n",
        "print(precision,recall)"
      ],
      "execution_count": 107,
      "outputs": [
        {
          "output_type": "stream",
          "text": [
            "1.0 0.8102893890675241\n"
          ],
          "name": "stdout"
        }
      ]
    },
    {
      "cell_type": "code",
      "metadata": {
        "id": "qJsHPfYKcBiU",
        "colab_type": "code",
        "colab": {
          "base_uri": "https://localhost:8080/",
          "height": 50
        },
        "outputId": "9b36831b-3947-4c94-cfd8-3854da558734"
      },
      "source": [
        "print('f1 score is: ')\n",
        "print(2*(precision*recall/(precision+recall)))"
      ],
      "execution_count": 108,
      "outputs": [
        {
          "output_type": "stream",
          "text": [
            "f1 score is: \n",
            "0.8952042628774424\n"
          ],
          "name": "stdout"
        }
      ]
    },
    {
      "cell_type": "code",
      "metadata": {
        "id": "-92cJxtnc6LQ",
        "colab_type": "code",
        "colab": {}
      },
      "source": [
        ""
      ],
      "execution_count": null,
      "outputs": []
    }
  ]
}